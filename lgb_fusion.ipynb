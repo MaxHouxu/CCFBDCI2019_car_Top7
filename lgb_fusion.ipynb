{
 "cells": [
  {
   "cell_type": "code",
   "execution_count": 1,
   "metadata": {},
   "outputs": [
    {
     "name": "stdout",
     "output_type": "stream",
     "text": [
      "regMonth\n",
      "1    447.175721\n",
      "2    323.451774\n",
      "3    391.318182\n",
      "4    351.824834\n",
      "Name: forecastVolum, dtype: float64\n"
     ]
    }
   ],
   "source": [
    "import pandas as pd\n",
    "\n",
    "old_sub = pd.read_csv(\"lgb_old.csv\")\n",
    "new_sub = pd.read_csv(\"lgb_new.csv\")\n",
    "\n",
    "sub = pd.concat([old_sub,new_sub])\n",
    "\n",
    "#sub.loc[sub.regMonth==2,'forecastVolum'] = sub.loc[sub.regMonth==2,'forecastVolum']*0.99\n",
    "print(sub.groupby('regMonth')['forecastVolum'].mean())\n",
    "sub[['id','forecastVolum']].round().astype(int).to_csv('lgb_sub.csv', index=False)\n",
    "\n",
    "## 5887\n",
    "# regMonth\n",
    "# 1    449.551552\n",
    "# 2    319.151885\n",
    "# 3    386.444568\n",
    "# 4    352.867517\n",
    "\n",
    "## 590\n",
    "# 1    448.020510\n",
    "# 2    323.777716\n",
    "# 3    394.615854\n",
    "# 4    356.363082\n",
    "\n",
    "## 592\n",
    "# regMonth\n",
    "# 1    447.175721\n",
    "# 2    323.451774\n",
    "# 3    391.318182\n",
    "# 4    351.824834"
   ]
  },
  {
   "cell_type": "code",
   "execution_count": null,
   "metadata": {
    "collapsed": true
   },
   "outputs": [],
   "source": []
  }
 ],
 "metadata": {
  "kernelspec": {
   "display_name": "Python 3",
   "language": "python",
   "name": "python3"
  },
  "language_info": {
   "codemirror_mode": {
    "name": "ipython",
    "version": 3
   },
   "file_extension": ".py",
   "mimetype": "text/x-python",
   "name": "python",
   "nbconvert_exporter": "python",
   "pygments_lexer": "ipython3",
   "version": "3.6.3"
  }
 },
 "nbformat": 4,
 "nbformat_minor": 2
}
