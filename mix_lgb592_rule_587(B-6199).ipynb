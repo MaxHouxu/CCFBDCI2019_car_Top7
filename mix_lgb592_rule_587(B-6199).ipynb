{
 "cells": [
  {
   "cell_type": "code",
   "execution_count": 39,
   "metadata": {
    "collapsed": true
   },
   "outputs": [],
   "source": [
    "import pandas as pd\n",
    "import numpy as np"
   ]
  },
  {
   "cell_type": "code",
   "execution_count": 40,
   "metadata": {},
   "outputs": [
    {
     "name": "stdout",
     "output_type": "stream",
     "text": [
      "   id  forecastVolum\n",
      "0   1            218\n",
      "1   2            267\n",
      "2   3            127\n",
      "3   4            213\n",
      "4   5            317\n",
      "   id  forecastVolum\n",
      "0   1            304\n",
      "1   2            370\n",
      "2   3            169\n",
      "3   4            301\n",
      "4   5            418\n",
      "0.6\n",
      "0.4\n"
     ]
    }
   ],
   "source": [
    "lgb_res = pd.read_csv(\"lgb_sub.csv\")\n",
    "rule_res = pd.read_csv(\"submission_rule.csv\")\n",
    "print(lgb_res.head(5))\n",
    "print(rule_res.head(5))\n",
    "rule_base = 627/(627+601)\n",
    "lgb_base = 601/(627+601)\n",
    "rule_base = 0.4\n",
    "lgb_base = 1 - rule_base\n",
    "print(rule_base)\n",
    "print(lgb_base)"
   ]
  },
  {
   "cell_type": "code",
   "execution_count": 41,
   "metadata": {},
   "outputs": [
    {
     "name": "stdout",
     "output_type": "stream",
     "text": [
      "0       270\n",
      "1       329\n",
      "2       152\n",
      "3       266\n",
      "4       378\n",
      "       ... \n",
      "7211    141\n",
      "7212     96\n",
      "7213    122\n",
      "7214    163\n",
      "7215     25\n",
      "Name: forecastVolum, Length: 7216, dtype: int32\n"
     ]
    }
   ],
   "source": [
    "## 0.6 0.4 => 0.6366\n",
    "## 0.65 0.35 => 0.6368\n",
    "sub = pd.DataFrame()\n",
    "sub['id'] = lgb_res['id']\n",
    "sub['forecastVolum'] = (rule_base*rule_res['forecastVolum'] + lgb_base*lgb_res['forecastVolum']).round().astype(int)\n",
    "print(sub['forecastVolum'])"
   ]
  },
  {
   "cell_type": "code",
   "execution_count": 32,
   "metadata": {
    "collapsed": true
   },
   "outputs": [],
   "source": [
    "sub.to_csv(\"sub_mix_20191119.csv\",index=None)"
   ]
  },
  {
   "cell_type": "code",
   "execution_count": null,
   "metadata": {
    "collapsed": true
   },
   "outputs": [],
   "source": []
  }
 ],
 "metadata": {
  "kernelspec": {
   "display_name": "Python 3",
   "language": "python",
   "name": "python3"
  },
  "language_info": {
   "codemirror_mode": {
    "name": "ipython",
    "version": 3
   },
   "file_extension": ".py",
   "mimetype": "text/x-python",
   "name": "python",
   "nbconvert_exporter": "python",
   "pygments_lexer": "ipython3",
   "version": "3.6.3"
  }
 },
 "nbformat": 4,
 "nbformat_minor": 2
}
